{
 "metadata": {
  "language_info": {
   "codemirror_mode": {
    "name": "ipython",
    "version": 3
   },
   "file_extension": ".py",
   "mimetype": "text/x-python",
   "name": "python",
   "nbconvert_exporter": "python",
   "pygments_lexer": "ipython3",
   "version": "3.9.4"
  },
  "orig_nbformat": 2,
  "kernelspec": {
   "name": "python394jvsc74a57bd0ac59ebe37160ed0dfa835113d9b8498d9f09ceb179beaac4002f036b9467c963",
   "display_name": "Python 3.9.4 64-bit"
  }
 },
 "nbformat": 4,
 "nbformat_minor": 2,
 "cells": [
  {
   "cell_type": "code",
   "execution_count": 19,
   "metadata": {},
   "outputs": [
    {
     "output_type": "stream",
     "name": "stdout",
     "text": [
      "Requirement already satisfied: rdflib in c:\\program files\\python39\\lib\\site-packages (5.0.0)\n",
      "Requirement already satisfied: six in c:\\program files\\python39\\lib\\site-packages (from rdflib) (1.15.0)\n",
      "Requirement already satisfied: pyparsing in c:\\program files\\python39\\lib\\site-packages (from rdflib) (2.4.7)\n",
      "Requirement already satisfied: isodate in c:\\program files\\python39\\lib\\site-packages (from rdflib) (0.6.0)\n",
      "WARNING: Value for scheme.headers does not match. Please report this to <https://github.com/pypa/pip/issues/9617>\n",
      "distutils: c:\\program files\\python39\\Include\\UNKNOWN\n",
      "sysconfig: c:\\program files\\python39\\Include\n",
      "WARNING: Additional context:\n",
      "user = False\n",
      "home = None\n",
      "root = None\n",
      "prefix = None\n",
      "WARNING: Value for scheme.headers does not match. Please report this to <https://github.com/pypa/pip/issues/9617>\n",
      "distutils: c:\\program files\\python39\\Include\\UNKNOWN\n",
      "sysconfig: c:\\program files\\python39\\Include\n",
      "WARNING: Additional context:\n",
      "user = False\n",
      "home = None\n",
      "root = None\n",
      "prefix = None\n"
     ]
    }
   ],
   "source": [
    "!pip install rdflib"
   ]
  },
  {
   "cell_type": "code",
   "execution_count": 20,
   "metadata": {},
   "outputs": [],
   "source": [
    "from rdflib import URIRef, BNode, Literal, Graph\n",
    "from rdflib import Namespace\n",
    "from rdflib.namespace import RDF, RDFS"
   ]
  },
  {
   "source": [
    "# Modelado del Grafo\n",
    "Ingresando URIS de los sujetos"
   ],
   "cell_type": "markdown",
   "metadata": {}
  },
  {
   "cell_type": "code",
   "execution_count": 21,
   "metadata": {},
   "outputs": [],
   "source": [
    "# Strength\n",
    "abaddon = URIRef('https://dota2.fandom.com/wiki/Abaddon')\n",
    "alchemist = URIRef('https://dota2.fandom.com/wiki/Alchemist')\n",
    "axe = URIRef('https://dota2.fandom.com/wiki/Axe')\n",
    "brewmaster = URIRef('https://dota2.fandom.com/wiki/Brewmaster')\n",
    "bristleback = URIRef('https://dota2.fandom.com/wiki/Bristleback')\n",
    "beastmaster = URIRef('https://dota2.fandom.com/wiki/Beastmaster')\n",
    "centaurWarrunner = URIRef('https://dota2.fandom.com/wiki/Centaur_Warrunner')\n",
    "chaosKnight = URIRef('https://dota2.fandom.com/wiki/Chaos_Knight')\n",
    "clockwerk = URIRef('https://dota2.fandom.com/wiki/Clockwerk')\n",
    "dawnbreake = URIRef('https://dota2.fandom.com/wiki/Dawnbreake')\n",
    "\n",
    "# Agility\n",
    "arcWarden = URIRef('https://dota2.fandom.com/wiki/Arc_Warden')\n",
    "antiMage = URIRef('https://dota2.fandom.com/wiki/Anti-Mage')\n",
    "bloodseeker = URIRef('https://dota2.fandom.com/wiki/Bloodseeker')\n",
    "bountyHunter = URIRef('https://dota2.fandom.com/wiki/Bounty_Hunter')\n",
    "broodmother = URIRef('https://dota2.fandom.com/wiki/Broodmother')\n",
    "clinkz = URIRef('https://dota2.fandom.com/wiki/Clinkz')\n",
    "drowRanger = URIRef('https://dota2.fandom.com/wiki/Drow_Ranger')\n",
    "emberSpirit = URIRef('https://dota2.fandom.com/wiki/Ember_Spirit')\n",
    "facelessVoid = URIRef('https://dota2.fandom.com/wiki/Faceless_Void')\n",
    "gyrocopter = URIRef('https://dota2.fandom.com/wiki/Gyrocopter')\n",
    "\n",
    "# Intelligence\n",
    "ancientApparition = URIRef('https://dota2.fandom.com/wiki/Ancient_Apparition')\n",
    "bane = URIRef('https://dota2.fandom.com/wiki/Bane')\n",
    "batrider = URIRef('https://dota2.fandom.com/wiki/Batrider')\n",
    "chen = URIRef('https://dota2.fandom.com/wiki/Chen')\n",
    "crystalMaiden = URIRef('https://dota2.fandom.com/wiki/Crystal_Maiden')\n",
    "darkSeer = URIRef('https://dota2.fandom.com/wiki/Dark_Seer')\n",
    "darkWillow = URIRef('https://dota2.fandom.com/wiki/Dark_Willow')\n",
    "dazzle = URIRef('https://dota2.fandom.com/wiki/Dazzle')\n",
    "deathProphet = URIRef('https://dota2.fandom.com/wiki/Death_Prophet')\n",
    "disruptor = URIRef('https://dota2.fandom.com/wiki/Disruptor')\n",
    "enchantress = URIRef('https://dota2.fandom.com/wiki/Enchantress')\n",
    "enigma = URIRef('https://dota2.fandom.com/wiki/Enigma')\n",
    "grimstroke = URIRef('https://dota2.fandom.com/wiki/Grimstroke')\n",
    "invoker = URIRef('https://dota2.fandom.com/wiki/Invoker')\n",
    "jakiro = URIRef('https://dota2.fandom.com/wiki/Jakiro')\n",
    "keeperOfTheLight = URIRef('https://dota2.fandom.com/wiki/Keeper_of_the_Light')\n",
    "leshrac = URIRef('https://dota2.fandom.com/wiki/Leshrac')\n",
    "lich = URIRef('https://dota2.fandom.com/wiki/Lich')\n",
    "lina = URIRef('https://dota2.fandom.com/wiki/Lina')\n",
    "lion = URIRef('https://dota2.fandom.com/wiki/Lion')\n",
    "naturesProphet = URIRef('https://dota2.fandom.com/wiki/Nature%27s_Prophet')\n",
    "necrophos = URIRef('https://dota2.fandom.com/wiki/Necrophos')\n",
    "ogreMagi = URIRef('https://dota2.fandom.com/wiki/Ogre_Magi')\n",
    "oracle = URIRef('https://dota2.fandom.com/wiki/Oracle')\n",
    "outworldDestroyer = URIRef('https://dota2.fandom.com/wiki/Outworld_Destroyer')\n",
    "puck = URIRef('https://dota2.fandom.com/wiki/Puck')\n",
    "pugna = URIRef('https://dota2.fandom.com/wiki/Pugna')\n",
    "queenOfPain = URIRef('https://dota2.fandom.com/wiki/Queen_of_Pain')\n",
    "rubick = URIRef('https://dota2.fandom.com/wiki/Rubick')\n",
    "shadowDemon = URIRef('https://dota2.fandom.com/wiki/Shadow_Demon')\n",
    "shadowShaman = URIRef('https://dota2.fandom.com/wiki/Shadow_Shaman')\n",
    "silencer = URIRef('https://dota2.fandom.com/wiki/Silencer')\n",
    "skywrathMage = URIRef('https://dota2.fandom.com/wiki/Skywrath_Mage')\n",
    "stormSpirit = URIRef('https://dota2.fandom.com/wiki/Storm_Spirit')\n",
    "techies = URIRef('https://dota2.fandom.com/wiki/Techies')\n",
    "tinker = URIRef('https://dota2.fandom.com/wiki/Tinker')\n",
    "visage = URIRef('https://dota2.fandom.com/wiki/Visage')\n",
    "voidSpirit = URIRef('https://dota2.fandom.com/wiki/Void_Spirit')\n",
    "warlock = URIRef('https://dota2.fandom.com/wiki/Warlock')\n",
    "windranger = URIRef('https://dota2.fandom.com/wiki/Windranger')\n",
    "winterWyvern= URIRef('https://dota2.fandom.com/wiki/Winter_Wyvern')\n",
    "witchDoctor = URIRef('https://dota2.fandom.com/wiki/Witch_Doctor')\n",
    "zeus = URIRef('https://dota2.fandom.com/wiki/Zeus')"
   ]
  },
  {
   "cell_type": "code",
   "execution_count": 22,
   "metadata": {},
   "outputs": [],
   "source": [
    "n = Namespace(\"https://dota2.fandom.com/\")"
   ]
  },
  {
   "source": [
    "Insertando las URIs de las cararterisitcas de los heroes"
   ],
   "cell_type": "markdown",
   "metadata": {}
  },
  {
   "cell_type": "code",
   "execution_count": 23,
   "metadata": {},
   "outputs": [],
   "source": [
    "# Caracteristicas\n",
    "\n",
    "# mainAttribute = URIRef('characteristic:mainAttribute')\n",
    "name = URIRef('characteristic#name')\n",
    "abilities = URIRef('characteristic#abilities')\n",
    "str = URIRef('characteristic#srt')\n",
    "agi = URIRef('characteristic#agi')\n",
    "int = URIRef('characteristic#int')"
   ]
  },
  {
   "source": [
    "g = Graph()"
   ],
   "cell_type": "code",
   "metadata": {},
   "execution_count": 24,
   "outputs": []
  },
  {
   "source": [
    "Agregando atributos(fuerza, agilidad, inteligencia)"
   ],
   "cell_type": "markdown",
   "metadata": {}
  },
  {
   "cell_type": "code",
   "execution_count": 25,
   "metadata": {},
   "outputs": [],
   "source": [
    "# Attributes\n",
    "g.add((n.strength, RDFS.subClassOf, n.attributes))\n",
    "g.add((n.agility, RDFS.subClassOf, n.attributes))\n",
    "g.add((n.intelligence, RDFS.subClassOf, n.attributes))\n",
    "\n",
    "# print(g.serialize(format='n3').decode('utf8'))"
   ]
  },
  {
   "source": [
    "Agregando clases de habilidad"
   ],
   "cell_type": "markdown",
   "metadata": {}
  },
  {
   "cell_type": "code",
   "execution_count": 26,
   "metadata": {},
   "outputs": [],
   "source": [
    "# Abilities\n",
    "\n",
    "active  = URIRef('https://dota2.fandom.com/wiki/Abilities#Active')\n",
    "passive = URIRef('https://dota2.fandom.com/wiki/Abilities#Passive')\n",
    "autocast = URIRef('https://dota2.fandom.com/wiki/Abilities#Autocast')\n",
    "\n",
    "g.add((active, RDFS.subClassOf ,n.abilities))\n",
    "g.add((passive, RDFS.subClassOf ,n.abilities))\n",
    "g.add((autocast, RDFS.subClassOf ,n.abilities))\n",
    "\n",
    "# print(g.serialize(format='n3').decode('utf8'))"
   ]
  },
  {
   "source": [
    "Agregando sub-clases de habilidades"
   ],
   "cell_type": "markdown",
   "metadata": {}
  },
  {
   "cell_type": "code",
   "execution_count": 27,
   "metadata": {},
   "outputs": [],
   "source": [
    "# Sub Abilities\n",
    "targetUnit = URIRef('https://dota2.fandom.com/wiki/Abilities#Target_Unit')\n",
    "targetPointOrUnit = URIRef('https://dota2.fandom.com/wiki/Abilities#Target_Point_or_Unit')\n",
    "targetPoint = URIRef('https://dota2.fandom.com/wiki/Abilities#Target_Point')\n",
    "targetArea = URIRef('https://dota2.fandom.com/wiki/Abilities#Target_Area')\n",
    "noTarget = URIRef('https://dota2.fandom.com/wiki/Abilities#No_Target')\n",
    "toggle = URIRef('https://dota2.fandom.com/wiki/Abilities#Toggle')\n",
    "\n",
    "g.add((targetUnit, RDFS.subClassOf , active))\n",
    "g.add((targetPointOrUnit, RDFS.subClassOf , active))\n",
    "g.add((targetPoint, RDFS.subClassOf , active))\n",
    "g.add((targetArea, RDFS.subClassOf , active))\n",
    "g.add((noTarget, RDFS.subClassOf , active))\n",
    "g.add((toggle, RDFS.subClassOf , active))\n",
    "\n",
    "\n",
    "# Auras\n",
    "\n",
    "g.add((n.aura, RDFS.subClassOf, passive))\n",
    "\n",
    "positiveAura = URIRef('https://dota2.fandom.com/wiki/Aura#Positive_Aura_Sources')\n",
    "negativeAura = URIRef('https://dota2.fandom.com/wiki/Aura#Negative_Aura_Sources')\n",
    "\n",
    "g.add((positiveAura, RDFS.subClassOf, n.aura))\n",
    "g.add((negativeAura, RDFS.subClassOf, n.aura))\n",
    "\n",
    "# print(g.serialize(format='xml').decode('utf8'))"
   ]
  },
  {
   "source": [
    "Agregando heroes con literales"
   ],
   "cell_type": "markdown",
   "metadata": {}
  },
  {
   "cell_type": "code",
   "execution_count": 28,
   "metadata": {},
   "outputs": [],
   "source": [
    "# Add Heros\n",
    "\n",
    "g.add((abaddon, name, Literal(\"Abaddon\")))\n",
    "g.add((abaddon, RDF.type, n.strength))\n",
    "g.add((abaddon, abilities, active))\n",
    "g.add((abaddon, abilities, passive))\n",
    "g.add((abaddon, str, Literal(23)))\n",
    "g.add((abaddon, agi, Literal(23)))\n",
    "g.add((abaddon, int, Literal(18)))\n",
    "\n",
    "\n",
    "g.add((arcWarden, name, Literal(\"Arc Warden\")))\n",
    "g.add((arcWarden, RDF.type, n.agility))\n",
    "g.add((arcWarden, abilities, active))\n",
    "g.add((arcWarden, str, Literal(23)))\n",
    "g.add((arcWarden, agi, Literal(16)))\n",
    "g.add((arcWarden, int, Literal(24)))\n",
    "\n",
    "g.add((ancientApparition, name, Literal(\"Ancient Apparition\")))\n",
    "g.add((ancientApparition, RDF.type, n.agility))\n",
    "g.add((ancientApparition, abilities, active))\n",
    "g.add((ancientApparition, abilities, autocast))\n",
    "g.add((ancientApparition, str, Literal(20)))\n",
    "g.add((ancientApparition, agi, Literal(20)))\n",
    "g.add((ancientApparition, int, Literal(23)))\n",
    "\n",
    "# print(g.serialize(format='n3').decode('utf8'))"
   ]
  },
  {
   "source": [
    "Ingresando los nombres literales de las habilidades y sub-habilidades"
   ],
   "cell_type": "markdown",
   "metadata": {}
  },
  {
   "cell_type": "code",
   "execution_count": 29,
   "metadata": {},
   "outputs": [
    {
     "output_type": "stream",
     "name": "stdout",
     "text": [
      "<?xml version=\"1.0\" encoding=\"UTF-8\"?>\n<rdf:RDF\n   xmlns:ns1=\"characteristic#\"\n   xmlns:rdf=\"http://www.w3.org/1999/02/22-rdf-syntax-ns#\"\n   xmlns:rdfs=\"http://www.w3.org/2000/01/rdf-schema#\"\n>\n  <rdf:Description rdf:about=\"https://dota2.fandom.com/wiki/Ancient_Apparition\">\n    <ns1:name>Ancient Apparition</ns1:name>\n    <ns1:srt rdf:datatype=\"http://www.w3.org/2001/XMLSchema#integer\">20</ns1:srt>\n    <ns1:abilities rdf:resource=\"https://dota2.fandom.com/wiki/Abilities#Autocast\"/>\n    <ns1:abilities rdf:resource=\"https://dota2.fandom.com/wiki/Abilities#Active\"/>\n    <ns1:int rdf:datatype=\"http://www.w3.org/2001/XMLSchema#integer\">23</ns1:int>\n    <ns1:agi rdf:datatype=\"http://www.w3.org/2001/XMLSchema#integer\">20</ns1:agi>\n    <rdf:type rdf:resource=\"https://dota2.fandom.com/agility\"/>\n  </rdf:Description>\n  <rdf:Description rdf:about=\"https://dota2.fandom.com/aura\">\n    <rdfs:subClassOf rdf:resource=\"https://dota2.fandom.com/wiki/Abilities#Passive\"/>\n  </rdf:Description>\n  <rdf:Description rdf:about=\"https://dota2.fandom.com/wiki/Abilities#Active\">\n    <ns1:name>Active</ns1:name>\n    <rdfs:subClassOf rdf:resource=\"https://dota2.fandom.com/abilities\"/>\n  </rdf:Description>\n  <rdf:Description rdf:about=\"https://dota2.fandom.com/wiki/Abaddon\">\n    <ns1:abilities rdf:resource=\"https://dota2.fandom.com/wiki/Abilities#Passive\"/>\n    <ns1:abilities rdf:resource=\"https://dota2.fandom.com/wiki/Abilities#Active\"/>\n    <rdf:type rdf:resource=\"https://dota2.fandom.com/strength\"/>\n    <ns1:name>Abaddon</ns1:name>\n    <ns1:srt rdf:datatype=\"http://www.w3.org/2001/XMLSchema#integer\">23</ns1:srt>\n    <ns1:agi rdf:datatype=\"http://www.w3.org/2001/XMLSchema#integer\">23</ns1:agi>\n    <ns1:int rdf:datatype=\"http://www.w3.org/2001/XMLSchema#integer\">18</ns1:int>\n  </rdf:Description>\n  <rdf:Description rdf:about=\"https://dota2.fandom.com/wiki/Abilities#Target_Unit\">\n    <rdfs:subClassOf rdf:resource=\"https://dota2.fandom.com/wiki/Abilities#Active\"/>\n  </rdf:Description>\n  <rdf:Description rdf:about=\"https://dota2.fandom.com/wiki/Aura#Negative_Aura_Sources\">\n    <rdfs:subClassOf rdf:resource=\"https://dota2.fandom.com/aura\"/>\n  </rdf:Description>\n  <rdf:Description rdf:about=\"https://dota2.fandom.com/wiki/Abilities#Target_Point\">\n    <rdfs:subClassOf rdf:resource=\"https://dota2.fandom.com/wiki/Abilities#Active\"/>\n  </rdf:Description>\n  <rdf:Description rdf:about=\"https://dota2.fandom.com/intelligence\">\n    <rdfs:subClassOf rdf:resource=\"https://dota2.fandom.com/attributes\"/>\n  </rdf:Description>\n  <rdf:Description rdf:about=\"https://dota2.fandom.com/wiki/Abilities#Toggle\">\n    <ns1:name>Toggle</ns1:name>\n    <rdfs:subClassOf rdf:resource=\"https://dota2.fandom.com/wiki/Abilities#Active\"/>\n  </rdf:Description>\n  <rdf:Description rdf:about=\"https://dota2.fandom.com/wiki/Abilities#Autocast\">\n    <rdfs:subClassOf rdf:resource=\"https://dota2.fandom.com/abilities\"/>\n  </rdf:Description>\n  <rdf:Description rdf:about=\"https://dota2.fandom.com/wiki/Arc_Warden\">\n    <ns1:srt rdf:datatype=\"http://www.w3.org/2001/XMLSchema#integer\">23</ns1:srt>\n    <ns1:name>Arc Warden</ns1:name>\n    <ns1:agi rdf:datatype=\"http://www.w3.org/2001/XMLSchema#integer\">16</ns1:agi>\n    <ns1:int rdf:datatype=\"http://www.w3.org/2001/XMLSchema#integer\">24</ns1:int>\n    <ns1:abilities rdf:resource=\"https://dota2.fandom.com/wiki/Abilities#Active\"/>\n    <rdf:type rdf:resource=\"https://dota2.fandom.com/agility\"/>\n  </rdf:Description>\n  <rdf:Description rdf:about=\"https://dota2.fandom.com/abilities\">\n    <ns1:name>Abilities</ns1:name>\n  </rdf:Description>\n  <rdf:Description rdf:about=\"https://dota2.fandom.com/wiki/Abilities#Target_Point_or_Unit\">\n    <rdfs:subClassOf rdf:resource=\"https://dota2.fandom.com/wiki/Abilities#Active\"/>\n  </rdf:Description>\n  <rdf:Description rdf:about=\"https://dota2.fandom.com/strength\">\n    <rdfs:subClassOf rdf:resource=\"https://dota2.fandom.com/attributes\"/>\n  </rdf:Description>\n  <rdf:Description rdf:about=\"https://dota2.fandom.com/wiki/Aura#Positive_Aura_Sources\">\n    <rdfs:subClassOf rdf:resource=\"https://dota2.fandom.com/aura\"/>\n  </rdf:Description>\n  <rdf:Description rdf:about=\"https://dota2.fandom.com/wiki/Abilities#No_Target\">\n    <rdfs:subClassOf rdf:resource=\"https://dota2.fandom.com/wiki/Abilities#Active\"/>\n  </rdf:Description>\n  <rdf:Description rdf:about=\"https://dota2.fandom.com/agility\">\n    <rdfs:subClassOf rdf:resource=\"https://dota2.fandom.com/attributes\"/>\n  </rdf:Description>\n  <rdf:Description rdf:about=\"https://dota2.fandom.com/wiki/Abilities#Passive\">\n    <rdfs:subClassOf rdf:resource=\"https://dota2.fandom.com/abilities\"/>\n  </rdf:Description>\n  <rdf:Description rdf:about=\"https://dota2.fandom.com/wiki/Abilities#Target_Area\">\n    <rdfs:subClassOf rdf:resource=\"https://dota2.fandom.com/wiki/Abilities#Active\"/>\n  </rdf:Description>\n</rdf:RDF>\n\n"
     ]
    }
   ],
   "source": [
    "g.add((toggle, name, Literal(\"Toggle\")))\n",
    "g.add((active, name, Literal(\"Active\")))\n",
    "g.add((n.abilities, name, Literal(\"Abilities\")))\n",
    "\n",
    "print(g.serialize(format='xml').decode('utf8'))"
   ]
  },
  {
   "source": [
    "# Inferencias"
   ],
   "cell_type": "markdown",
   "metadata": {}
  },
  {
   "source": [
    "Primera Inferencia: Encontrar las dependencias (subclases) para la subclase toggle"
   ],
   "cell_type": "markdown",
   "metadata": {}
  },
  {
   "cell_type": "code",
   "execution_count": 30,
   "metadata": {},
   "outputs": [
    {
     "output_type": "stream",
     "name": "stdout",
     "text": [
      "Toggle\nActive\nAbilities\n"
     ]
    }
   ],
   "source": [
    "for s in g.transitive_objects(toggle, RDFS.subClassOf):\n",
    "    print(g.value(s, name))"
   ]
  },
  {
   "source": [
    "# Ontospy"
   ],
   "cell_type": "markdown",
   "metadata": {}
  },
  {
   "cell_type": "code",
   "execution_count": 31,
   "metadata": {},
   "outputs": [
    {
     "output_type": "stream",
     "name": "stdout",
     "text": [
      "Requirement already satisfied: ontospy in c:\\program files\\python39\\lib\\site-packages (1.9.8.3)\n",
      "Requirement already satisfied: rdflib in c:\\program files\\python39\\lib\\site-packages (from ontospy) (5.0.0)\n",
      "Requirement already satisfied: pyfiglet in c:\\program files\\python39\\lib\\site-packages (from ontospy) (0.8.post1)\n",
      "Requirement already satisfied: colorama in c:\\users\\juni_\\appdata\\roaming\\python\\python39\\site-packages (from ontospy) (0.4.4)\n",
      "Requirement already satisfied: requests in c:\\program files\\python39\\lib\\site-packages (from ontospy) (2.25.1)\n",
      "Requirement already satisfied: pyparsing in c:\\program files\\python39\\lib\\site-packages (from ontospy) (2.4.7)\n",
      "Requirement already satisfied: keepalive in c:\\program files\\python39\\lib\\site-packages (from ontospy) (0.5)\n",
      "Requirement already satisfied: click in c:\\program files\\python39\\lib\\site-packages (from ontospy) (7.1.2)\n",
      "Requirement already satisfied: SPARQLWrapper in c:\\program files\\python39\\lib\\site-packages (from ontospy) (1.8.5)\n",
      "Requirement already satisfied: rdflib-jsonld in c:\\program files\\python39\\lib\\site-packages (from ontospy) (0.5.0)\n",
      "Requirement already satisfied: html5lib in c:\\program files\\python39\\lib\\site-packages (from ontospy) (1.1)\n",
      "Requirement already satisfied: six>=1.9 in c:\\program files\\python39\\lib\\site-packages (from html5lib->ontospy) (1.15.0)\n",
      "Requirement already satisfied: webencodings in c:\\program files\\python39\\lib\\site-packages (from html5lib->ontospy) (0.5.1)\n",
      "Requirement already satisfied: isodate in c:\\program files\\python39\\lib\\site-packages (from rdflib->ontospy) (0.6.0)\n",
      "Requirement already satisfied: idna<3,>=2.5 in c:\\program files\\python39\\lib\\site-packages (from requests->ontospy) (2.10)\n",
      "Requirement already satisfied: urllib3<1.27,>=1.21.1 in c:\\program files\\python39\\lib\\site-packages (from requests->ontospy) (1.26.4)\n",
      "Requirement already satisfied: certifi>=2017.4.17 in c:\\program files\\python39\\lib\\site-packages (from requests->ontospy) (2020.12.5)\n",
      "Requirement already satisfied: chardet<5,>=3.0.2 in c:\\program files\\python39\\lib\\site-packages (from requests->ontospy) (4.0.0)\n",
      "WARNING: Value for scheme.headers does not match. Please report this to <https://github.com/pypa/pip/issues/9617>\n",
      "distutils: c:\\program files\\python39\\Include\\UNKNOWN\n",
      "sysconfig: c:\\program files\\python39\\Include\n",
      "WARNING: Additional context:\n",
      "user = False\n",
      "home = None\n",
      "root = None\n",
      "prefix = None\n",
      "WARNING: Value for scheme.headers does not match. Please report this to <https://github.com/pypa/pip/issues/9617>\n",
      "distutils: c:\\program files\\python39\\Include\\UNKNOWN\n",
      "sysconfig: c:\\program files\\python39\\Include\n",
      "WARNING: Additional context:\n",
      "user = False\n",
      "home = None\n",
      "root = None\n",
      "prefix = None\n"
     ]
    }
   ],
   "source": [
    "!pip install ontospy"
   ]
  },
  {
   "cell_type": "code",
   "execution_count": 32,
   "metadata": {},
   "outputs": [
    {
     "output_type": "stream",
     "name": "stdout",
     "text": [
      "Reading: <dota2.rdf>\n",
      ".. trying rdf serialization: <xml>\n",
      "..... success!\n",
      "----------\n",
      "Loaded 38 triples.\n",
      "----------\n",
      "RDF sources loaded successfully: 1 of 1.\n",
      "..... 'dota2.rdf'\n",
      "----------\n",
      "Scanning entities...\n",
      "----------\n",
      "Ontologies.........: 0\n",
      "Classes............: 17\n",
      "Properties.........: 0\n",
      "..annotation.......: 0\n",
      "..datatype.........: 0\n",
      "..object...........: 0\n",
      "Concepts (SKOS)....: 0\n",
      "Shapes (SHACL).....: 0\n",
      "----------\n"
     ]
    }
   ],
   "source": [
    "import ontospy\n",
    "\n",
    "g.serialize(destination='dota2.rdf', format='xml')\n",
    "model = ontospy.Ontospy(\"dota2.rdf\", verbose=True)"
   ]
  }
 ]
}