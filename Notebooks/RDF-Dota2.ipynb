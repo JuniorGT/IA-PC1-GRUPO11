{
 "metadata": {
  "language_info": {
   "codemirror_mode": {
    "name": "ipython",
    "version": 3
   },
   "file_extension": ".py",
   "mimetype": "text/x-python",
   "name": "python",
   "nbconvert_exporter": "python",
   "pygments_lexer": "ipython3",
   "version": "3.9.4"
  },
  "orig_nbformat": 2,
  "kernelspec": {
   "name": "python394jvsc74a57bd0ac59ebe37160ed0dfa835113d9b8498d9f09ceb179beaac4002f036b9467c963",
   "display_name": "Python 3.9.4 64-bit"
  }
 },
 "nbformat": 4,
 "nbformat_minor": 2,
 "cells": [
  {
   "cell_type": "code",
   "execution_count": 1,
   "metadata": {},
   "outputs": [
    {
     "output_type": "execute_result",
     "data": {
      "text/plain": [
       "['WARNING: Value for scheme.headers does not match. Please report this to <https://github.com/pypa/pip/issues/9617>',\n",
       " 'distutils: c:\\\\program files\\\\python39\\\\Include\\\\UNKNOWN',\n",
       " 'sysconfig: c:\\\\program files\\\\python39\\\\Include',\n",
       " 'WARNING: Additional context:',\n",
       " 'user = False',\n",
       " 'home = None',\n",
       " 'root = None',\n",
       " 'prefix = None',\n",
       " 'Requirement already satisfied: rdflib in c:\\\\program files\\\\python39\\\\lib\\\\site-packages (5.0.0)',\n",
       " 'Requirement already satisfied: six in c:\\\\program files\\\\python39\\\\lib\\\\site-packages (from rdflib) (1.15.0)',\n",
       " 'Requirement already satisfied: isodate in c:\\\\program files\\\\python39\\\\lib\\\\site-packages (from rdflib) (0.6.0)',\n",
       " 'Requirement already satisfied: pyparsing in c:\\\\program files\\\\python39\\\\lib\\\\site-packages (from rdflib) (2.4.7)',\n",
       " 'WARNING: Value for scheme.headers does not match. Please report this to <https://github.com/pypa/pip/issues/9617>',\n",
       " 'distutils: c:\\\\program files\\\\python39\\\\Include\\\\UNKNOWN',\n",
       " 'sysconfig: c:\\\\program files\\\\python39\\\\Include',\n",
       " 'WARNING: Additional context:',\n",
       " 'user = False',\n",
       " 'home = None',\n",
       " 'root = None',\n",
       " 'prefix = None']"
      ]
     },
     "metadata": {},
     "execution_count": 1
    }
   ],
   "source": [
    "!!pip install rdflib"
   ]
  },
  {
   "cell_type": "code",
   "execution_count": 2,
   "metadata": {},
   "outputs": [],
   "source": [
    "from rdflib import URIRef, BNode, Literal, Graph\n",
    "from rdflib import Namespace\n",
    "from rdflib.namespace import RDF, RDFS"
   ]
  },
  {
   "source": [
    "# Modelado del Grafo\n",
    "Ingresando URIS de los sujetos"
   ],
   "cell_type": "markdown",
   "metadata": {}
  }
 ]
}