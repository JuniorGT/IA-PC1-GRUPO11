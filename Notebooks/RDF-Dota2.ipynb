{
 "metadata": {
  "language_info": {
   "codemirror_mode": {
    "name": "ipython",
    "version": 3
   },
   "file_extension": ".py",
   "mimetype": "text/x-python",
   "name": "python",
   "nbconvert_exporter": "python",
   "pygments_lexer": "ipython3",
   "version": "3.9.4"
  },
  "orig_nbformat": 2,
  "kernelspec": {
   "name": "python394jvsc74a57bd0ac59ebe37160ed0dfa835113d9b8498d9f09ceb179beaac4002f036b9467c963",
   "display_name": "Python 3.9.4 64-bit"
  }
 },
 "nbformat": 4,
 "nbformat_minor": 2,
 "cells": [
  {
   "cell_type": "code",
   "execution_count": 1,
   "metadata": {},
   "outputs": [
    {
     "output_type": "execute_result",
     "data": {
      "text/plain": [
       "['WARNING: Value for scheme.headers does not match. Please report this to <https://github.com/pypa/pip/issues/9617>',\n",
       " 'distutils: c:\\\\program files\\\\python39\\\\Include\\\\UNKNOWN',\n",
       " 'sysconfig: c:\\\\program files\\\\python39\\\\Include',\n",
       " 'WARNING: Additional context:',\n",
       " 'user = False',\n",
       " 'home = None',\n",
       " 'root = None',\n",
       " 'prefix = None',\n",
       " 'Requirement already satisfied: rdflib in c:\\\\program files\\\\python39\\\\lib\\\\site-packages (5.0.0)',\n",
       " 'Requirement already satisfied: six in c:\\\\program files\\\\python39\\\\lib\\\\site-packages (from rdflib) (1.15.0)',\n",
       " 'Requirement already satisfied: isodate in c:\\\\program files\\\\python39\\\\lib\\\\site-packages (from rdflib) (0.6.0)',\n",
       " 'Requirement already satisfied: pyparsing in c:\\\\program files\\\\python39\\\\lib\\\\site-packages (from rdflib) (2.4.7)',\n",
       " 'WARNING: Value for scheme.headers does not match. Please report this to <https://github.com/pypa/pip/issues/9617>',\n",
       " 'distutils: c:\\\\program files\\\\python39\\\\Include\\\\UNKNOWN',\n",
       " 'sysconfig: c:\\\\program files\\\\python39\\\\Include',\n",
       " 'WARNING: Additional context:',\n",
       " 'user = False',\n",
       " 'home = None',\n",
       " 'root = None',\n",
       " 'prefix = None']"
      ]
     },
     "metadata": {},
     "execution_count": 1
    }
   ],
   "source": [
    "!!pip install rdflib"
   ]
  },
  {
   "cell_type": "code",
   "execution_count": 2,
   "metadata": {},
   "outputs": [],
   "source": [
    "from rdflib import URIRef, BNode, Literal, Graph\n",
    "from rdflib import Namespace\n",
    "from rdflib.namespace import RDF, RDFS"
   ]
  },
  {
   "source": [
    "# Modelado del Grafo\n",
    "Ingresando URIS de los sujetos"
   ],
   "cell_type": "markdown",
   "metadata": {}
  },
  {
   "cell_type": "code",
   "execution_count": 7,
   "metadata": {},
   "outputs": [],
   "source": [
    "# Strength\n",
    "abaddon = URIRef('https://dota2.fandom.com/wiki/Abaddon')\n",
    "alchemist = URIRef('https://dota2.fandom.com/wiki/Alchemist')\n",
    "axe = URIRef('https://dota2.fandom.com/wiki/Axe')\n",
    "brewmaster = URIRef('https://dota2.fandom.com/wiki/Brewmaster')\n",
    "bristleback = URIRef('https://dota2.fandom.com/wiki/Bristleback')\n",
    "beastmaster = URIRef('https://dota2.fandom.com/wiki/Beastmaster')\n",
    "centaurWarrunner = URIRef('https://dota2.fandom.com/wiki/Centaur_Warrunner')\n",
    "chaosKnight = URIRef('https://dota2.fandom.com/wiki/Chaos_Knight')\n",
    "clockwerk = URIRef('https://dota2.fandom.com/wiki/Clockwerk')\n",
    "dawnbreake = URIRef('https://dota2.fandom.com/wiki/Dawnbreake')\n",
    "\n",
    "# Agility\n",
    "arcWarden = URIRef('https://dota2.fandom.com/wiki/Arc_Warden')\n",
    "antiMage = URIRef('https://dota2.fandom.com/wiki/Anti-Mage')\n",
    "bloodseeker = URIRef('https://dota2.fandom.com/wiki/Bloodseeker')\n",
    "bountyHunter = URIRef('https://dota2.fandom.com/wiki/Bounty_Hunter')\n",
    "broodmother = URIRef('https://dota2.fandom.com/wiki/Broodmother')\n",
    "clinkz = URIRef('https://dota2.fandom.com/wiki/Clinkz')\n",
    "drowRanger = URIRef('https://dota2.fandom.com/wiki/Drow_Ranger')\n",
    "emberSpirit = URIRef('https://dota2.fandom.com/wiki/Ember_Spirit')\n",
    "facelessVoid = URIRef('https://dota2.fandom.com/wiki/Faceless_Void')\n",
    "gyrocopter = URIRef('https://dota2.fandom.com/wiki/Gyrocopter')\n",
    "\n",
    "# Intelligence\n",
    "ancientApparition = URIRef('https://dota2.fandom.com/wiki/Ancient_Apparition')\n",
    "bane = URIRef('https://dota2.fandom.com/wiki/Bane')\n",
    "batrider = URIRef('https://dota2.fandom.com/wiki/Batrider')\n",
    "chen = URIRef('https://dota2.fandom.com/wiki/Chen')\n",
    "crystalMaiden = URIRef('https://dota2.fandom.com/wiki/Crystal_Maiden')\n",
    "darkSeer = URIRef('https://dota2.fandom.com/wiki/Dark_Seer')\n",
    "darkWillow = URIRef('https://dota2.fandom.com/wiki/Dark_Willow')\n",
    "dazzle = URIRef('https://dota2.fandom.com/wiki/Dazzle')\n",
    "deathProphet = URIRef('https://dota2.fandom.com/wiki/Death_Prophet')\n",
    "disruptor = URIRef('https://dota2.fandom.com/wiki/Disruptor')"
   ]
  },
  {
   "cell_type": "code",
   "execution_count": 8,
   "metadata": {},
   "outputs": [],
   "source": [
    "n = Namespace(\"https://dota2.fandom.com/\")"
   ]
  },
  {
   "cell_type": "code",
   "execution_count": null,
   "metadata": {},
   "outputs": [],
   "source": []
  }
 ]
}