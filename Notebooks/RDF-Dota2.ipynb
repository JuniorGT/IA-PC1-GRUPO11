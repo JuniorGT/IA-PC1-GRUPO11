{
 "metadata": {
  "language_info": {
   "codemirror_mode": {
    "name": "ipython",
    "version": 3
   },
   "file_extension": ".py",
   "mimetype": "text/x-python",
   "name": "python",
   "nbconvert_exporter": "python",
   "pygments_lexer": "ipython3",
   "version": "3.9.4"
  },
  "orig_nbformat": 2,
  "kernelspec": {
   "name": "python394jvsc74a57bd0ac59ebe37160ed0dfa835113d9b8498d9f09ceb179beaac4002f036b9467c963",
   "display_name": "Python 3.9.4 64-bit"
  }
 },
 "nbformat": 4,
 "nbformat_minor": 2,
 "cells": [
  {
   "cell_type": "code",
   "execution_count": 48,
   "metadata": {},
   "outputs": [
    {
     "output_type": "stream",
     "name": "stdout",
     "text": [
      "Requirement already satisfied: rdflib in c:\\program files\\python39\\lib\\site-packages (5.0.0)\n",
      "Requirement already satisfied: pyparsing in c:\\program files\\python39\\lib\\site-packages (from rdflib) (2.4.7)\n",
      "Requirement already satisfied: six in c:\\program files\\python39\\lib\\site-packages (from rdflib) (1.15.0)\n",
      "Requirement already satisfied: isodate in c:\\program files\\python39\\lib\\site-packages (from rdflib) (0.6.0)\n",
      "WARNING: Value for scheme.headers does not match. Please report this to <https://github.com/pypa/pip/issues/9617>\n",
      "distutils: c:\\program files\\python39\\Include\\UNKNOWN\n",
      "sysconfig: c:\\program files\\python39\\Include\n",
      "WARNING: Additional context:\n",
      "user = False\n",
      "home = None\n",
      "root = None\n",
      "prefix = None\n",
      "WARNING: Value for scheme.headers does not match. Please report this to <https://github.com/pypa/pip/issues/9617>\n",
      "distutils: c:\\program files\\python39\\Include\\UNKNOWN\n",
      "sysconfig: c:\\program files\\python39\\Include\n",
      "WARNING: Additional context:\n",
      "user = False\n",
      "home = None\n",
      "root = None\n",
      "prefix = None\n"
     ]
    }
   ],
   "source": [
    "!pip install rdflib"
   ]
  },
  {
   "cell_type": "code",
   "execution_count": 49,
   "metadata": {},
   "outputs": [],
   "source": [
    "from rdflib import URIRef, BNode, Literal, Graph\n",
    "from rdflib import Namespace\n",
    "from rdflib.namespace import RDF, RDFS"
   ]
  },
  {
   "source": [
    "# Modelado del Grafo\n",
    "Ingresando URIS de los sujetos"
   ],
   "cell_type": "markdown",
   "metadata": {}
  },
  {
   "cell_type": "code",
   "execution_count": 50,
   "metadata": {},
   "outputs": [],
   "source": [
    "# Strength\n",
    "abaddon = URIRef('https://dota2.fandom.com/wiki/Abaddon')\n",
    "alchemist = URIRef('https://dota2.fandom.com/wiki/Alchemist')\n",
    "axe = URIRef('https://dota2.fandom.com/wiki/Axe')\n",
    "brewmaster = URIRef('https://dota2.fandom.com/wiki/Brewmaster')\n",
    "bristleback = URIRef('https://dota2.fandom.com/wiki/Bristleback')\n",
    "beastmaster = URIRef('https://dota2.fandom.com/wiki/Beastmaster')\n",
    "centaurWarrunner = URIRef('https://dota2.fandom.com/wiki/Centaur_Warrunner')\n",
    "chaosKnight = URIRef('https://dota2.fandom.com/wiki/Chaos_Knight')\n",
    "clockwerk = URIRef('https://dota2.fandom.com/wiki/Clockwerk')\n",
    "dawnbreake = URIRef('https://dota2.fandom.com/wiki/Dawnbreake')\n",
    "doom = URIRef('https://dota2.fandom.com/wiki/Doom')\n",
    "dragonKnight = URIRef('https://dota2.fandom.com/wiki/Dragon_Knight')\n",
    "earthSpirit = URIRef('https://dota2.fandom.com/wiki/Earth_Spirit')\n",
    "earthshaker = URIRef('https://dota2.fandom.com/wiki/Earthshaker')\n",
    "elderTitan = URIRef('https://dota2.fandom.com/wiki/Elder_Titan')\n",
    "huskar = URIRef('https://dota2.fandom.com/wiki/Huskar')\n",
    "io = URIRef('https://dota2.fandom.com/wiki/Io')\n",
    "kunkka = URIRef('https://dota2.fandom.com/wiki/Kunkka')\n",
    "legionCommander = URIRef('https://dota2.fandom.com/wiki/Legion_Commander')\n",
    "lifestealer = URIRef('https://dota2.fandom.com/wiki/Lifestealer')\n",
    "lycan = URIRef('https://dota2.fandom.com/wiki/Lycan')\n",
    "magnus = URIRef('https://dota2.fandom.com/wiki/Magnus')\n",
    "mars = URIRef('https://dota2.fandom.com/wiki/Mars')\n",
    "nightStalker = URIRef('https://dota2.fandom.com/wiki/Night_Stalker')\n",
    "omniknight = URIRef('https://dota2.fandom.com/wiki/Omniknight')\n",
    "phoenix = URIRef('https://dota2.fandom.com/wiki/Phoenix')\n",
    "pudge = URIRef('https://dota2.fandom.com/wiki/Pudge')\n",
    "sandKing = URIRef('https://dota2.fandom.com/wiki/Sand_King')\n",
    "slardar = URIRef('https://dota2.fandom.com/wiki/Slardar')\n",
    "snapfire = URIRef('https://dota2.fandom.com/wiki/Snapfire')\n",
    "spiritBreaker = URIRef('https://dota2.fandom.com/wiki/Spirit_Breaker')\n",
    "sven = URIRef('https://dota2.fandom.com/wiki/Sven')\n",
    "tidehunter = URIRef('https://dota2.fandom.com/wiki/Tidehunter')\n",
    "timbersaw = URIRef('https://dota2.fandom.com/wiki/Timbersaw')\n",
    "tiny = URIRef('https://dota2.fandom.com/wiki/Tiny')\n",
    "treantProtector = URIRef('https://dota2.fandom.com/wiki/Treant_Protector')\n",
    "tusk = URIRef('https://dota2.fandom.com/wiki/Tusk')\n",
    "underlord = URIRef('https://dota2.fandom.com/wiki/Underlord')\n",
    "undying = URIRef('https://dota2.fandom.com/wiki/Undying')\n",
    "wraithKing = URIRef('https://dota2.fandom.com/wiki/Wraith_King')\n",
    "\n",
    "\n",
    "# Agility\n",
    "arcWarden = URIRef('https://dota2.fandom.com/wiki/Arc_Warden')\n",
    "antiMage = URIRef('https://dota2.fandom.com/wiki/Anti-Mage')\n",
    "bloodseeker = URIRef('https://dota2.fandom.com/wiki/Bloodseeker')\n",
    "bountyHunter = URIRef('https://dota2.fandom.com/wiki/Bounty_Hunter')\n",
    "broodmother = URIRef('https://dota2.fandom.com/wiki/Broodmother')\n",
    "clinkz = URIRef('https://dota2.fandom.com/wiki/Clinkz')\n",
    "drowRanger = URIRef('https://dota2.fandom.com/wiki/Drow_Ranger')\n",
    "emberSpirit = URIRef('https://dota2.fandom.com/wiki/Ember_Spirit')\n",
    "facelessVoid = URIRef('https://dota2.fandom.com/wiki/Faceless_Void')\n",
    "gyrocopter = URIRef('https://dota2.fandom.com/wiki/Gyrocopter')\n",
    "\n",
    "# Intelligence\n",
    "ancientApparition = URIRef('https://dota2.fandom.com/wiki/Ancient_Apparition')\n",
    "bane = URIRef('https://dota2.fandom.com/wiki/Bane')\n",
    "batrider = URIRef('https://dota2.fandom.com/wiki/Batrider')\n",
    "chen = URIRef('https://dota2.fandom.com/wiki/Chen')\n",
    "crystalMaiden = URIRef('https://dota2.fandom.com/wiki/Crystal_Maiden')\n",
    "darkSeer = URIRef('https://dota2.fandom.com/wiki/Dark_Seer')\n",
    "darkWillow = URIRef('https://dota2.fandom.com/wiki/Dark_Willow')\n",
    "dazzle = URIRef('https://dota2.fandom.com/wiki/Dazzle')\n",
    "deathProphet = URIRef('https://dota2.fandom.com/wiki/Death_Prophet')\n",
    "disruptor = URIRef('https://dota2.fandom.com/wiki/Disruptor')\n",
    "enchantress = URIRef('https://dota2.fandom.com/wiki/Enchantress')\n",
    "enigma = URIRef('https://dota2.fandom.com/wiki/Enigma')\n",
    "grimstroke = URIRef('https://dota2.fandom.com/wiki/Grimstroke')\n",
    "invoker = URIRef('https://dota2.fandom.com/wiki/Invoker')\n",
    "jakiro = URIRef('https://dota2.fandom.com/wiki/Jakiro')\n",
    "keeperOfTheLight = URIRef('https://dota2.fandom.com/wiki/Keeper_of_the_Light')\n",
    "leshrac = URIRef('https://dota2.fandom.com/wiki/Leshrac')\n",
    "lich = URIRef('https://dota2.fandom.com/wiki/Lich')\n",
    "lina = URIRef('https://dota2.fandom.com/wiki/Lina')\n",
    "lion = URIRef('https://dota2.fandom.com/wiki/Lion')\n",
    "naturesProphet = URIRef('https://dota2.fandom.com/wiki/Nature%27s_Prophet')\n",
    "necrophos = URIRef('https://dota2.fandom.com/wiki/Necrophos')\n",
    "ogreMagi = URIRef('https://dota2.fandom.com/wiki/Ogre_Magi')\n",
    "oracle = URIRef('https://dota2.fandom.com/wiki/Oracle')\n",
    "outworldDestroyer = URIRef('https://dota2.fandom.com/wiki/Outworld_Destroyer')\n",
    "puck = URIRef('https://dota2.fandom.com/wiki/Puck')\n",
    "pugna = URIRef('https://dota2.fandom.com/wiki/Pugna')\n",
    "queenOfPain = URIRef('https://dota2.fandom.com/wiki/Queen_of_Pain')\n",
    "rubick = URIRef('https://dota2.fandom.com/wiki/Rubick')\n",
    "shadowDemon = URIRef('https://dota2.fandom.com/wiki/Shadow_Demon')\n",
    "shadowShaman = URIRef('https://dota2.fandom.com/wiki/Shadow_Shaman')\n",
    "silencer = URIRef('https://dota2.fandom.com/wiki/Silencer')\n",
    "skywrathMage = URIRef('https://dota2.fandom.com/wiki/Skywrath_Mage')\n",
    "stormSpirit = URIRef('https://dota2.fandom.com/wiki/Storm_Spirit')\n",
    "techies = URIRef('https://dota2.fandom.com/wiki/Techies')\n",
    "tinker = URIRef('https://dota2.fandom.com/wiki/Tinker')\n",
    "visage = URIRef('https://dota2.fandom.com/wiki/Visage')\n",
    "voidSpirit = URIRef('https://dota2.fandom.com/wiki/Void_Spirit')\n",
    "warlock = URIRef('https://dota2.fandom.com/wiki/Warlock')\n",
    "windranger = URIRef('https://dota2.fandom.com/wiki/Windranger')\n",
    "winterWyvern= URIRef('https://dota2.fandom.com/wiki/Winter_Wyvern')\n",
    "witchDoctor = URIRef('https://dota2.fandom.com/wiki/Witch_Doctor')\n",
    "zeus = URIRef('https://dota2.fandom.com/wiki/Zeus')"
   ]
  },
  {
   "cell_type": "code",
   "execution_count": 51,
   "metadata": {},
   "outputs": [],
   "source": [
    "n = Namespace(\"https://dota2.fandom.com/\")"
   ]
  },
  {
   "source": [
    "Insertando las URIs de las cararterisitcas de los heroes"
   ],
   "cell_type": "markdown",
   "metadata": {}
  },
  {
   "cell_type": "code",
   "execution_count": 52,
   "metadata": {},
   "outputs": [],
   "source": [
    "# Caracteristicas\n",
    "\n",
    "# mainAttribute = URIRef('characteristic:mainAttribute')\n",
    "name = URIRef('characteristic#name')\n",
    "abilities = URIRef('characteristic#abilities')\n",
    "str = URIRef('characteristic#srt')\n",
    "agi = URIRef('characteristic#agi')\n",
    "int = URIRef('characteristic#int')"
   ]
  },
  {
   "source": [
    "g = Graph()"
   ],
   "cell_type": "code",
   "metadata": {},
   "execution_count": 53,
   "outputs": []
  },
  {
   "source": [
    "Agregando atributos(fuerza, agilidad, inteligencia)"
   ],
   "cell_type": "markdown",
   "metadata": {}
  },
  {
   "cell_type": "code",
   "execution_count": 54,
   "metadata": {},
   "outputs": [],
   "source": [
    "# Attributes\n",
    "g.add((n.strength, RDFS.subClassOf, n.attributes))\n",
    "g.add((n.agility, RDFS.subClassOf, n.attributes))\n",
    "g.add((n.intelligence, RDFS.subClassOf, n.attributes))\n",
    "\n",
    "# print(g.serialize(format='n3').decode('utf8'))"
   ]
  },
  {
   "source": [
    "Agregando clases de habilidad"
   ],
   "cell_type": "markdown",
   "metadata": {}
  },
  {
   "cell_type": "code",
   "execution_count": 55,
   "metadata": {},
   "outputs": [],
   "source": [
    "# Abilities\n",
    "\n",
    "active  = URIRef('https://dota2.fandom.com/wiki/Abilities#Active')\n",
    "passive = URIRef('https://dota2.fandom.com/wiki/Abilities#Passive')\n",
    "autocast = URIRef('https://dota2.fandom.com/wiki/Abilities#Autocast')\n",
    "\n",
    "g.add((active, RDFS.subClassOf ,n.abilities))\n",
    "g.add((passive, RDFS.subClassOf ,n.abilities))\n",
    "g.add((autocast, RDFS.subClassOf ,n.abilities))\n",
    "\n",
    "# print(g.serialize(format='n3').decode('utf8'))"
   ]
  },
  {
   "source": [
    "Agregando sub-clases de habilidades"
   ],
   "cell_type": "markdown",
   "metadata": {}
  },
  {
   "cell_type": "code",
   "execution_count": 56,
   "metadata": {},
   "outputs": [],
   "source": [
    "# Sub Abilities\n",
    "targetUnit = URIRef('https://dota2.fandom.com/wiki/Abilities#Target_Unit')\n",
    "targetPointOrUnit = URIRef('https://dota2.fandom.com/wiki/Abilities#Target_Point_or_Unit')\n",
    "targetPoint = URIRef('https://dota2.fandom.com/wiki/Abilities#Target_Point')\n",
    "targetArea = URIRef('https://dota2.fandom.com/wiki/Abilities#Target_Area')\n",
    "noTarget = URIRef('https://dota2.fandom.com/wiki/Abilities#No_Target')\n",
    "toggle = URIRef('https://dota2.fandom.com/wiki/Abilities#Toggle')\n",
    "\n",
    "g.add((targetUnit, RDFS.subClassOf , active))\n",
    "g.add((targetPointOrUnit, RDFS.subClassOf , active))\n",
    "g.add((targetPoint, RDFS.subClassOf , active))\n",
    "g.add((targetArea, RDFS.subClassOf , active))\n",
    "g.add((noTarget, RDFS.subClassOf , active))\n",
    "g.add((toggle, RDFS.subClassOf , active))\n",
    "\n",
    "\n",
    "# Auras\n",
    "\n",
    "g.add((n.aura, RDFS.subClassOf, passive))\n",
    "\n",
    "positiveAura = URIRef('https://dota2.fandom.com/wiki/Aura#Positive_Aura_Sources')\n",
    "negativeAura = URIRef('https://dota2.fandom.com/wiki/Aura#Negative_Aura_Sources')\n",
    "\n",
    "g.add((positiveAura, RDFS.subClassOf, n.aura))\n",
    "g.add((negativeAura, RDFS.subClassOf, n.aura))\n",
    "\n",
    "# print(g.serialize(format='xml').decode('utf8'))"
   ]
  },
  {
   "source": [
    "Agregando heroes con literales"
   ],
   "cell_type": "markdown",
   "metadata": {}
  },
  {
   "cell_type": "code",
   "execution_count": 57,
   "metadata": {},
   "outputs": [],
   "source": [
    "# Add Heros\n",
    "\n",
    "g.add((abaddon, name, Literal(\"Abaddon\")))\n",
    "g.add((abaddon, RDF.type, n.strength))\n",
    "g.add((abaddon, abilities, active))\n",
    "g.add((abaddon, abilities, passive))\n",
    "g.add((abaddon, str, Literal(23)))\n",
    "g.add((abaddon, agi, Literal(23)))\n",
    "g.add((abaddon, int, Literal(18)))\n",
    "\n",
    "\n",
    "g.add((arcWarden, name, Literal(\"Arc Warden\")))\n",
    "g.add((arcWarden, RDF.type, n.agility))\n",
    "g.add((arcWarden, abilities, active))\n",
    "g.add((arcWarden, str, Literal(23)))\n",
    "g.add((arcWarden, agi, Literal(16)))\n",
    "g.add((arcWarden, int, Literal(24)))\n",
    "\n",
    "g.add((ancientApparition, name, Literal(\"Ancient Apparition\")))\n",
    "g.add((ancientApparition, RDF.type, n.agility))\n",
    "g.add((ancientApparition, abilities, active))\n",
    "g.add((ancientApparition, abilities, autocast))\n",
    "g.add((ancientApparition, str, Literal(20)))\n",
    "g.add((ancientApparition, agi, Literal(20)))\n",
    "g.add((ancientApparition, int, Literal(23)))\n",
    "\n",
    "# print(g.serialize(format='n3').decode('utf8'))"
   ]
  },
  {
   "source": [
    "Ingresando los nombres literales de las habilidades y sub-habilidades"
   ],
   "cell_type": "markdown",
   "metadata": {}
  },
  {
   "cell_type": "code",
   "execution_count": 58,
   "metadata": {},
   "outputs": [],
   "source": [
    "g.add((n.attributes, name, Literal('Attributes')))\n",
    "g.add((n.strength, name, Literal('Strength')))\n",
    "g.add((n.agility, name, Literal('Agility')))\n",
    "g.add((n.intelligence, name, Literal('Intelligence')))\n",
    "g.add((n.abilities, name, Literal(\"Abilities\")))\n",
    "g.add((active, name, Literal('Active')))\n",
    "g.add((passive, name, Literal('Passive')))\n",
    "g.add((autocast, name, Literal('Autocast')))\n",
    "g.add((targetUnit, name, Literal('Target Unit')))\n",
    "g.add((targetPointOrUnit, name, Literal('Target point or unit')))\n",
    "g.add((targetPoint, name, Literal('Target Point')))\n",
    "g.add((targetArea, name, Literal('Target Area')))\n",
    "g.add((noTarget, name, Literal('No target')))\n",
    "g.add((toggle, name, Literal('Toggle')))\n",
    "g.add((n.aura, name, Literal('Aura')))\n",
    "g.add((positiveAura, name, Literal('Positive aura')))\n",
    "g.add((negativeAura, name, Literal('Negative aura')))\n",
    "\n",
    "\n",
    "# print(g.serialize(format='xml').decode('utf8'))"
   ]
  },
  {
   "source": [
    "# Inferencias"
   ],
   "cell_type": "markdown",
   "metadata": {}
  },
  {
   "source": [
    "Primera Inferencia: Encontrar las dependencias (subclases) para la subclase toggle"
   ],
   "cell_type": "markdown",
   "metadata": {}
  },
  {
   "cell_type": "code",
   "execution_count": 59,
   "metadata": {},
   "outputs": [
    {
     "output_type": "stream",
     "name": "stdout",
     "text": [
      "Toggle\nActive\nAbilities\n"
     ]
    }
   ],
   "source": [
    "for s in g.transitive_objects(toggle, RDFS.subClassOf):\n",
    "    print(g.value(s, name))"
   ]
  },
  {
   "source": [
    "# Ontospy"
   ],
   "cell_type": "markdown",
   "metadata": {}
  },
  {
   "cell_type": "code",
   "execution_count": 60,
   "metadata": {},
   "outputs": [
    {
     "output_type": "stream",
     "name": "stdout",
     "text": [
      "Requirement already satisfied: ontospy in c:\\program files\\python39\\lib\\site-packages (1.9.8.3)\n",
      "Requirement already satisfied: pyfiglet in c:\\program files\\python39\\lib\\site-packages (from ontospy) (0.8.post1)\n",
      "Requirement already satisfied: requests in c:\\program files\\python39\\lib\\site-packages (from ontospy) (2.25.1)\n",
      "Requirement already satisfied: rdflib in c:\\program files\\python39\\lib\\site-packages (from ontospy) (5.0.0)\n",
      "Requirement already satisfied: SPARQLWrapper in c:\\program files\\python39\\lib\\site-packages (from ontospy) (1.8.5)\n",
      "Requirement already satisfied: colorama in c:\\users\\juni_\\appdata\\roaming\\python\\python39\\site-packages (from ontospy) (0.4.4)\n",
      "Requirement already satisfied: pyparsing in c:\\program files\\python39\\lib\\site-packages (from ontospy) (2.4.7)\n",
      "Requirement already satisfied: keepalive in c:\\program files\\python39\\lib\\site-packages (from ontospy) (0.5)\n",
      "Requirement already satisfied: click in c:\\program files\\python39\\lib\\site-packages (from ontospy) (7.1.2)\n",
      "Requirement already satisfied: html5lib in c:\\program files\\python39\\lib\\site-packages (from ontospy) (1.1)\n",
      "Requirement already satisfied: rdflib-jsonld in c:\\program files\\python39\\lib\\site-packages (from ontospy) (0.5.0)\n",
      "Requirement already satisfied: six>=1.9 in c:\\program files\\python39\\lib\\site-packages (from html5lib->ontospy) (1.15.0)\n",
      "Requirement already satisfied: webencodings in c:\\program files\\python39\\lib\\site-packages (from html5lib->ontospy) (0.5.1)\n",
      "Requirement already satisfied: isodate in c:\\program files\\python39\\lib\\site-packages (from rdflib->ontospy) (0.6.0)\n",
      "Requirement already satisfied: urllib3<1.27,>=1.21.1 in c:\\program files\\python39\\lib\\site-packages (from requests->ontospy) (1.26.4)\n",
      "Requirement already satisfied: certifi>=2017.4.17 in c:\\program files\\python39\\lib\\site-packages (from requests->ontospy) (2020.12.5)\n",
      "Requirement already satisfied: idna<3,>=2.5 in c:\\program files\\python39\\lib\\site-packages (from requests->ontospy) (2.10)\n",
      "Requirement already satisfied: chardet<5,>=3.0.2 in c:\\program files\\python39\\lib\\site-packages (from requests->ontospy) (4.0.0)\n",
      "WARNING: Value for scheme.headers does not match. Please report this to <https://github.com/pypa/pip/issues/9617>\n",
      "distutils: c:\\program files\\python39\\Include\\UNKNOWN\n",
      "sysconfig: c:\\program files\\python39\\Include\n",
      "WARNING: Additional context:\n",
      "user = False\n",
      "home = None\n",
      "root = None\n",
      "prefix = None\n",
      "WARNING: Value for scheme.headers does not match. Please report this to <https://github.com/pypa/pip/issues/9617>\n",
      "distutils: c:\\program files\\python39\\Include\\UNKNOWN\n",
      "sysconfig: c:\\program files\\python39\\Include\n",
      "WARNING: Additional context:\n",
      "user = False\n",
      "home = None\n",
      "root = None\n",
      "prefix = None\n"
     ]
    }
   ],
   "source": [
    "!pip install ontospy"
   ]
  },
  {
   "cell_type": "code",
   "execution_count": 61,
   "metadata": {},
   "outputs": [
    {
     "output_type": "stream",
     "name": "stdout",
     "text": [
      "Reading: <dota2.rdf>\n",
      ".. trying rdf serialization: <xml>\n",
      "..... success!\n",
      "----------\n",
      "Loaded 52 triples.\n",
      "----------\n",
      "RDF sources loaded successfully: 1 of 1.\n",
      "..... 'dota2.rdf'\n",
      "----------\n",
      "Scanning entities...\n",
      "----------\n",
      "Ontologies.........: 0\n",
      "Classes............: 17\n",
      "Properties.........: 0\n",
      "..annotation.......: 0\n",
      "..datatype.........: 0\n",
      "..object...........: 0\n",
      "Concepts (SKOS)....: 0\n",
      "Shapes (SHACL).....: 0\n",
      "----------\n"
     ]
    }
   ],
   "source": [
    "import ontospy\n",
    "\n",
    "g.serialize(destination='dota2.rdf', format='xml')\n",
    "model = ontospy.Ontospy(\"dota2.rdf\", verbose=True)"
   ]
  }
 ]
}